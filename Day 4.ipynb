{
 "cells": [
  {
   "cell_type": "code",
   "execution_count": 3,
   "id": "dd12f25b-0ad6-4c3a-9085-1a0d4fbed980",
   "metadata": {},
   "outputs": [
    {
     "name": "stdin",
     "output_type": "stream",
     "text": [
      "Enter a positive integer:  5\n"
     ]
    },
    {
     "name": "stdout",
     "output_type": "stream",
     "text": [
      "Sum of all even numbers between 1 and 5 is: 6\n"
     ]
    }
   ],
   "source": [
    "def sum_of_even_numbers(n):\n",
    "    sum_even = 0\n",
    "    for i in range(2, n + 1, 2):\n",
    "        sum_even += i\n",
    "    return sum_even\n",
    "\n",
    "n = int(input(\"Enter a positive integer: \"))\n",
    "\n",
    "sum_even = sum_of_even_numbers(n)\n",
    "print(\"Sum of all even numbers between 1 and\", n, \"is:\", sum_even)\n"
   ]
  },
  {
   "cell_type": "code",
   "execution_count": null,
   "id": "f20bf382-3c7c-4bc1-9fb8-69667e54242f",
   "metadata": {},
   "outputs": [],
   "source": []
  }
 ],
 "metadata": {
  "kernelspec": {
   "display_name": "Python [conda env:base] *",
   "language": "python",
   "name": "conda-base-py"
  },
  "language_info": {
   "codemirror_mode": {
    "name": "ipython",
    "version": 3
   },
   "file_extension": ".py",
   "mimetype": "text/x-python",
   "name": "python",
   "nbconvert_exporter": "python",
   "pygments_lexer": "ipython3",
   "version": "3.12.7"
  }
 },
 "nbformat": 4,
 "nbformat_minor": 5
}
