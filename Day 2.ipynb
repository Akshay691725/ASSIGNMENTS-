{
 "cells": [
  {
   "cell_type": "code",
   "execution_count": 1,
   "id": "9ec17ae9-6015-4c3a-87d4-892618573604",
   "metadata": {},
   "outputs": [
    {
     "name": "stdout",
     "output_type": "stream",
     "text": [
      "List: [10, 20, 30, 40, 50]\n",
      "First element: 10\n",
      "Third element: 30\n",
      "Last element: 50\n"
     ]
    }
   ],
   "source": [
    "my_list = [10, 20, 30, 40, 50]\n",
    "first_element = my_list[0]\n",
    "third_element = my_list[2]\n",
    "last_element = my_list[-1]\n",
    "\n",
    "print(\"List:\", my_list)\n",
    "print(\"First element:\", first_element)\n",
    "print(\"Third element:\", third_element)\n",
    "print(\"Last element:\", last_element)\n"
   ]
  },
  {
   "cell_type": "code",
   "execution_count": 3,
   "id": "e581242a-3315-4369-9571-9ac7661e3450",
   "metadata": {},
   "outputs": [
    {
     "name": "stdout",
     "output_type": "stream",
     "text": [
      "Tuple: (100, 200, 300, 400, 500)\n",
      "First element: 100\n",
      "Third element: 300\n",
      "Last element: 500\n"
     ]
    }
   ],
   "source": [
    "my_tuple = (100, 200, 300, 400, 500)\n",
    "first_element = my_tuple[0]\n",
    "third_element = my_tuple[2]\n",
    "last_element = my_tuple[-1]\n",
    "\n",
    "print(\"Tuple:\", my_tuple)\n",
    "print(\"First element:\", first_element)\n",
    "print(\"Third element:\", third_element)\n",
    "print(\"Last element:\", last_element)\n"
   ]
  },
  {
   "cell_type": "code",
   "execution_count": 5,
   "id": "1846930d-cca1-418e-8b08-85746a94d65e",
   "metadata": {},
   "outputs": [
    {
     "name": "stdout",
     "output_type": "stream",
     "text": [
      "Dictionary: {'a': 1, 'b': 2, 'c': 3, 'd': 4, 'e': 5}\n",
      "Element 'a': 1\n",
      "Element 'c': 3\n",
      "Element 'e': 5\n"
     ]
    }
   ],
   "source": [
    "my_dict = {\n",
    "    'a': 1,\n",
    "    'b': 2,\n",
    "    'c': 3,\n",
    "    'd': 4,\n",
    "    'e': 5\n",
    "}\n",
    "element_a = my_dict['a']\n",
    "element_c = my_dict['c']\n",
    "element_e = my_dict['e']\n",
    "\n",
    "print(\"Dictionary:\", my_dict)\n",
    "print(\"Element 'a':\", element_a)\n",
    "print(\"Element 'c':\", element_c)\n",
    "print(\"Element 'e':\", element_e)\n"
   ]
  },
  {
   "cell_type": "code",
   "execution_count": null,
   "id": "27c8cf7e-443d-40a4-8f7b-69a7a5c492d1",
   "metadata": {},
   "outputs": [],
   "source": []
  }
 ],
 "metadata": {
  "kernelspec": {
   "display_name": "Python [conda env:base] *",
   "language": "python",
   "name": "conda-base-py"
  },
  "language_info": {
   "codemirror_mode": {
    "name": "ipython",
    "version": 3
   },
   "file_extension": ".py",
   "mimetype": "text/x-python",
   "name": "python",
   "nbconvert_exporter": "python",
   "pygments_lexer": "ipython3",
   "version": "3.12.7"
  }
 },
 "nbformat": 4,
 "nbformat_minor": 5
}
