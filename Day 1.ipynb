{
 "cells": [
  {
   "cell_type": "code",
   "execution_count": 1,
   "id": "7260d7f5-9a81-4a4a-b4b1-967734a3b787",
   "metadata": {},
   "outputs": [
    {
     "name": "stdout",
     "output_type": "stream",
     "text": [
      "Integer: 10\n",
      "Float: 3.14\n",
      "String: Hello, Jupyter!\n",
      "Boolean: True\n"
     ]
    }
   ],
   "source": [
    "my_integer = 10\n",
    "print(\"Integer:\", my_integer)\n",
    "\n",
    "my_float = 3.14\n",
    "print(\"Float:\", my_float)\n",
    "\n",
    "my_string = \"Hello, Jupyter!\"\n",
    "print(\"String:\", my_string)\n",
    "\n",
    "my_boolean = True\n",
    "print(\"Boolean:\", my_boolean)\n"
   ]
  },
  {
   "cell_type": "code",
   "execution_count": null,
   "id": "069faf8e-81d7-4bf1-917d-b1c3802638a3",
   "metadata": {},
   "outputs": [],
   "source": []
  }
 ],
 "metadata": {
  "kernelspec": {
   "display_name": "Python [conda env:base] *",
   "language": "python",
   "name": "conda-base-py"
  },
  "language_info": {
   "codemirror_mode": {
    "name": "ipython",
    "version": 3
   },
   "file_extension": ".py",
   "mimetype": "text/x-python",
   "name": "python",
   "nbconvert_exporter": "python",
   "pygments_lexer": "ipython3",
   "version": "3.12.7"
  }
 },
 "nbformat": 4,
 "nbformat_minor": 5
}
